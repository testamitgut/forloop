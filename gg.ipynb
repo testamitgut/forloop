{
 "cells": [
  {
   "cell_type": "code",
   "execution_count": 1,
   "id": "eda38889-aa47-481c-8c18-9bf79f1edb31",
   "metadata": {},
   "outputs": [
    {
     "name": "stdout",
     "output_type": "stream",
     "text": [
      "1\n",
      "2\n",
      "3\n"
     ]
    }
   ],
   "source": [
    "n=4\n",
    "i=1\n",
    "while i<n:\n",
    "    print(i)\n",
    "    i=i+1;\n",
    "    "
   ]
  },
  {
   "cell_type": "code",
   "execution_count": 3,
   "id": "279ffb15-b0e4-4e88-83ad-ebf2ffd13dfb",
   "metadata": {},
   "outputs": [
    {
     "name": "stdout",
     "output_type": "stream",
     "text": [
      "a\n",
      "m\n",
      "i\n",
      "t\n"
     ]
    }
   ],
   "source": [
    "d=\"amit\"\n",
    "for i in d:\n",
    "    print(i)\n"
   ]
  },
  {
   "cell_type": "code",
   "execution_count": 5,
   "id": "65c45d3a-0ff1-44b1-bdd5-365eb4ac159f",
   "metadata": {},
   "outputs": [],
   "source": [
    "s=[2,3,4,5,6,\"amit\",34.5]"
   ]
  },
  {
   "cell_type": "code",
   "execution_count": 9,
   "id": "14365959-118f-4139-ad8a-46e1168ab354",
   "metadata": {},
   "outputs": [
    {
     "name": "stdout",
     "output_type": "stream",
     "text": [
      "<class 'int'>\n",
      "<class 'int'>\n",
      "<class 'int'>\n",
      "<class 'int'>\n",
      "<class 'int'>\n",
      "<class 'str'>\n",
      "<class 'float'>\n",
      "this will be for loo will complete itself succefully\n"
     ]
    }
   ],
   "source": [
    "for i in s:\n",
    "    print(type(i))\n",
    "else:\n",
    "    print(\"this will be for loo will complete itself succefully\")"
   ]
  },
  {
   "cell_type": "code",
   "execution_count": 11,
   "id": "4812e56b-fd37-4990-adf3-914094e6c8c4",
   "metadata": {},
   "outputs": [
    {
     "name": "stdout",
     "output_type": "stream",
     "text": [
      "<class 'int'>\n",
      "<class 'int'>\n",
      "<class 'int'>\n",
      "<class 'int'>\n",
      "<class 'int'>\n"
     ]
    }
   ],
   "source": [
    "for i in s:\n",
    "    print(type(i))\n",
    "    if i==6:\n",
    "        break\n",
    "else:\n",
    "    print(\"this will be for loop will complete itself succefully\")"
   ]
  },
  {
   "cell_type": "code",
   "execution_count": 13,
   "id": "d09842b2-ac2b-430f-b445-b38572bcdb45",
   "metadata": {},
   "outputs": [
    {
     "name": "stdout",
     "output_type": "stream",
     "text": [
      "<class 'int'>\n",
      "2\n",
      "<class 'int'>\n",
      "3\n",
      "<class 'int'>\n",
      "4\n",
      "<class 'int'>\n",
      "5\n",
      "<class 'int'>\n",
      "<class 'str'>\n",
      "amit\n",
      "<class 'float'>\n",
      "34.5\n",
      "this will be for loop will complete itself succefully\n"
     ]
    }
   ],
   "source": [
    "for i in s:\n",
    "    print(type(i))\n",
    "    if i==6:\n",
    "        continue\n",
    "    print(i)\n",
    "else:\n",
    "    print(\"this will be for loop will complete itself succefully\")"
   ]
  },
  {
   "cell_type": "code",
   "execution_count": 14,
   "id": "e95caf60-ba0c-491d-b773-31a9f262e704",
   "metadata": {},
   "outputs": [
    {
     "data": {
      "text/plain": [
       "range(0, 10)"
      ]
     },
     "execution_count": 14,
     "metadata": {},
     "output_type": "execute_result"
    }
   ],
   "source": [
    "range(10)"
   ]
  },
  {
   "cell_type": "code",
   "execution_count": 15,
   "id": "8ed5fa3d-8f6b-4f73-ad0e-3a53bd3bc4f4",
   "metadata": {},
   "outputs": [
    {
     "data": {
      "text/plain": [
       "[0, 1, 2, 3, 4, 5, 6, 7, 8, 9]"
      ]
     },
     "execution_count": 15,
     "metadata": {},
     "output_type": "execute_result"
    }
   ],
   "source": [
    "list(range(10))"
   ]
  },
  {
   "cell_type": "code",
   "execution_count": null,
   "id": "cc8fc3b1-d6ec-4e2b-9277-182de9c901b3",
   "metadata": {},
   "outputs": [],
   "source": []
  }
 ],
 "metadata": {
  "kernelspec": {
   "display_name": "Python 3 (ipykernel)",
   "language": "python",
   "name": "python3"
  },
  "language_info": {
   "codemirror_mode": {
    "name": "ipython",
    "version": 3
   },
   "file_extension": ".py",
   "mimetype": "text/x-python",
   "name": "python",
   "nbconvert_exporter": "python",
   "pygments_lexer": "ipython3",
   "version": "3.10.8"
  }
 },
 "nbformat": 4,
 "nbformat_minor": 5
}
